{
 "cells": [
  {
   "cell_type": "code",
   "execution_count": 1,
   "id": "127a0844",
   "metadata": {},
   "outputs": [],
   "source": [
    "import pandas as pd"
   ]
  },
  {
   "cell_type": "code",
   "execution_count": 7,
   "id": "0ed61df5",
   "metadata": {},
   "outputs": [],
   "source": [
    "data_path = \"../rolling_forecasts/600372/prediction_0000.parquet\""
   ]
  },
  {
   "cell_type": "code",
   "execution_count": 8,
   "id": "5e79aeb5",
   "metadata": {},
   "outputs": [
    {
     "name": "stdout",
     "output_type": "stream",
     "text": [
      "   timestamp  open  close\n",
      "0 2025-01-01     0     10\n",
      "1 2025-01-02     1     11\n",
      "2 2025-01-03     2     12\n",
      "3 2025-01-04     3     13\n",
      "4 2025-01-05     4     14\n"
     ]
    }
   ],
   "source": [
    "df = pd.read_parquet(data_path)\n",
    "print(df.head())"
   ]
  }
 ],
 "metadata": {
  "kernelspec": {
   "display_name": "tuning",
   "language": "python",
   "name": "python3"
  },
  "language_info": {
   "codemirror_mode": {
    "name": "ipython",
    "version": 3
   },
   "file_extension": ".py",
   "mimetype": "text/x-python",
   "name": "python",
   "nbconvert_exporter": "python",
   "pygments_lexer": "ipython3",
   "version": "3.13.7"
  }
 },
 "nbformat": 4,
 "nbformat_minor": 5
}
